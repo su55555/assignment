{
 "cells": [
  {
   "cell_type": "markdown",
   "id": "de4e21b9",
   "metadata": {},
   "source": [
    "# Data Science Tools and Ecosystem"
   ]
  },
  {
   "cell_type": "markdown",
   "id": "0cccfd08",
   "metadata": {},
   "source": [
    "INTRODUCTION~\n",
    "\n",
    "In this notebook, Data Science Tools and Ecosystem are summarized."
   ]
  },
  {
   "cell_type": "markdown",
   "id": "eecd1912",
   "metadata": {},
   "source": [
    "**Objectives:**\n",
    "* To learn the components of a Data Scientist's toolkit and list various tool catagories\n",
    "* To learn how to use the Notebooks in JupyterLab\n",
    "* To learn Git and GitHub\n",
    "* To learn R capabilities and RStudio environment,etc."
   ]
  },
  {
   "cell_type": "markdown",
   "id": "e7168ab0",
   "metadata": {},
   "source": [
    "Some of the popular languages that Data Scientists use are:\n",
    "1. Python\n",
    "2. R\n",
    "3. Scala\n",
    "4. SQL,etc."
   ]
  },
  {
   "cell_type": "markdown",
   "id": "d591483f",
   "metadata": {},
   "source": [
    "Some of the commonly used libraries used by Data Scientists include:\n",
    "1. TensorFlow\n",
    "2. Pandas\n",
    "3. Apache Spark\n",
    "4. SciPy,etc."
   ]
  },
  {
   "cell_type": "markdown",
   "id": "629af35c",
   "metadata": {},
   "source": [
    "|Data Science Tools|\n",
    "|------------------|\n",
    "|Jupyter Notebook|\n",
    "|R Studio|\n",
    "|Apache Spark|"
   ]
  },
  {
   "cell_type": "markdown",
   "id": "3e8f06c4",
   "metadata": {},
   "source": [
    "### Below are a few examples of evaluating arithmetic expressions in Python "
   ]
  },
  {
   "cell_type": "code",
   "execution_count": 24,
   "id": "f61ecc4b",
   "metadata": {},
   "outputs": [
    {
     "name": "stdout",
     "output_type": "stream",
     "text": [
      "(3*4)+5 is a simple arithmatic expression to multiply then add integers, therefore answer = 17\n"
     ]
    }
   ],
   "source": [
    "print(\"(3*4)+5 is a simple arithmatic expression to multiply then add integers, therefore answer =\",(3*4)+5)"
   ]
  },
  {
   "cell_type": "code",
   "execution_count": 27,
   "id": "3ff7a9c4",
   "metadata": {},
   "outputs": [
    {
     "name": "stdout",
     "output_type": "stream",
     "text": [
      "To convert 200 minutes into hours we divide it by 60, therefore answer = 3.3333333333333335 hours\n"
     ]
    }
   ],
   "source": [
    "print(\"To convert 200 minutes into hours we divide it by 60, therefore answer =\",200/60,\"hours\")"
   ]
  },
  {
   "cell_type": "markdown",
   "id": "216bcddd",
   "metadata": {},
   "source": [
    "## Author\n",
    "Subarna Sasmal"
   ]
  }
 ],
 "metadata": {
  "kernelspec": {
   "display_name": "Python 3 (ipykernel)",
   "language": "python",
   "name": "python3"
  },
  "language_info": {
   "codemirror_mode": {
    "name": "ipython",
    "version": 3
   },
   "file_extension": ".py",
   "mimetype": "text/x-python",
   "name": "python",
   "nbconvert_exporter": "python",
   "pygments_lexer": "ipython3",
   "version": "3.11.5"
  }
 },
 "nbformat": 4,
 "nbformat_minor": 5
}
